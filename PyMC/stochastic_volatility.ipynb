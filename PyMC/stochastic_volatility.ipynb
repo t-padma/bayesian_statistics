{
 "cells": [
  {
   "cell_type": "markdown",
   "metadata": {},
   "source": [
    "Case study taken from PyMC paper/tutorial.\n",
    "\n",
    "Salvatier J, Wiecki TV, Fonnesbeck C. 2016. _Probabilistic programming in Python using PyMC3_. PeerJ Computer Science 2:e55 https://doi.org/10.7717/peerj-cs.55\n",
    "\n",
    "* Can implement MCMC sampling algorithms No-U-Turn Sampler (NUTS) and a self-tuning variant of HMC.\n",
    "* PyMC3, Stan and LaplacesDemon package for R are currently the only probabilistic programming languages to offer HMC."
   ]
  },
  {
   "cell_type": "code",
   "execution_count": null,
   "metadata": {},
   "outputs": [],
   "source": []
  }
 ],
 "metadata": {
  "kernelspec": {
   "display_name": "bayes",
   "language": "python",
   "name": "python3"
  },
  "language_info": {
   "name": "python",
   "version": "3.12.8"
  }
 },
 "nbformat": 4,
 "nbformat_minor": 2
}
